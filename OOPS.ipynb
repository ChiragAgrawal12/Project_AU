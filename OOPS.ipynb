{
 "cells": [
  {
   "cell_type": "markdown",
   "id": "22705790",
   "metadata": {},
   "source": [
    "# Object Oriented Programmings (OOPs)"
   ]
  },
  {
   "cell_type": "markdown",
   "id": "9f61006c",
   "metadata": {},
   "source": [
    "### <b>CLASS"
   ]
  },
  {
   "cell_type": "code",
   "execution_count": 21,
   "id": "6f04224b",
   "metadata": {},
   "outputs": [],
   "source": [
    "class Animal:\n",
    "    number_of_legs=4\n",
    "    def run(self):             # self here is written to avoid error while calling the function due to object passing\n",
    "        print(\"I am running\")"
   ]
  },
  {
   "cell_type": "code",
   "execution_count": 22,
   "id": "491c3564",
   "metadata": {},
   "outputs": [],
   "source": [
    "a1=Animal()"
   ]
  },
  {
   "cell_type": "code",
   "execution_count": 23,
   "id": "3cee1685",
   "metadata": {},
   "outputs": [
    {
     "data": {
      "text/plain": [
       "4"
      ]
     },
     "execution_count": 23,
     "metadata": {},
     "output_type": "execute_result"
    }
   ],
   "source": [
    "a1.number_of_legs"
   ]
  },
  {
   "cell_type": "code",
   "execution_count": 24,
   "id": "966123fc",
   "metadata": {},
   "outputs": [
    {
     "name": "stdout",
     "output_type": "stream",
     "text": [
      "I am running\n"
     ]
    }
   ],
   "source": [
    "a1.run()       # Object itself is passed as argument to the function"
   ]
  },
  {
   "cell_type": "markdown",
   "id": "adae7b4d",
   "metadata": {},
   "source": [
    "### <b>CONSTRUCTOR </b> :- It automatically calls when object is created"
   ]
  },
  {
   "cell_type": "code",
   "execution_count": 38,
   "id": "e2cbb73d",
   "metadata": {},
   "outputs": [],
   "source": [
    "class Bank:\n",
    "    def __init__(self,acc_no,name,balance):    # __init__ is a Constructor which is used to define variable and initialize it inside the class\n",
    "        self.acc_no=acc_no                     # self is a reference variable and is used by the object of the class\n",
    "        self.name=name\n",
    "        self.balance=balance\n",
    "    def balance_multiplier(self):\n",
    "        if self.balance>1000:\n",
    "            return 2*self.balance"
   ]
  },
  {
   "cell_type": "code",
   "execution_count": 39,
   "id": "3e36978e",
   "metadata": {},
   "outputs": [],
   "source": [
    "c1=Bank(123,\"Chirag\",100000)\n",
    "c2=Bank(1234,\"Aaditya\",20000)"
   ]
  },
  {
   "cell_type": "code",
   "execution_count": 40,
   "id": "7d3ffd53",
   "metadata": {},
   "outputs": [
    {
     "data": {
      "text/plain": [
       "40000"
      ]
     },
     "execution_count": 40,
     "metadata": {},
     "output_type": "execute_result"
    }
   ],
   "source": [
    "c2.balance_multiplier()"
   ]
  },
  {
   "cell_type": "code",
   "execution_count": 27,
   "id": "41f43e1e",
   "metadata": {},
   "outputs": [
    {
     "data": {
      "text/plain": [
       "'Aaditya'"
      ]
     },
     "execution_count": 27,
     "metadata": {},
     "output_type": "execute_result"
    }
   ],
   "source": [
    "c2.name"
   ]
  },
  {
   "cell_type": "code",
   "execution_count": null,
   "id": "2252f13a",
   "metadata": {},
   "outputs": [],
   "source": [
    "class Car:\n",
    "    def __init__(self,name,model,color,brand,price):\n",
    "        self.name=name\n",
    "        self.model=model\n",
    "        self.color=color\n",
    "        self.brand=brand\n",
    "        self.price=price\n",
    "        self.fuel_type()                   # Calling a function inside a class which is defined outside the class itself \n",
    "    def fuel_type(self):\n",
    "        print(\"It is a petrol car\")"
   ]
  },
  {
   "cell_type": "code",
   "execution_count": 35,
   "id": "3a1c9058",
   "metadata": {},
   "outputs": [],
   "source": [
    "Car1=Car(\"Lamborgini\",\"Aventador\",\"Red\",\"Lamborgini\",1000000)\n",
    "Car2=Car(\"BMW\",\"X7\",\"Black\",\"BMW\",150000)\n",
    "Car3=Car(\"Audi\",\"R8\",\"White\",\"Audi\",600000)\n",
    "Car4=Car(\"Porsche\",\"911\",\"Blue\",\"Porsche\",700000)\n",
    "Car5=Car(\"Bugatti\",\"Veyron\",\"Yellow\",\"Bugatti\",800000)\n",
    "Car6=Car(\"Ferrari\",\"488\",\"Green\",\"Ferrari\",900000)\n",
    "Car7=Car(\"Mercedes\",\"Benz\",\"Grey\",\"Mercedes\",1000000)"
   ]
  },
  {
   "cell_type": "code",
   "execution_count": 36,
   "id": "ef420b0c",
   "metadata": {},
   "outputs": [
    {
     "name": "stdout",
     "output_type": "stream",
     "text": [
      "It is a petrol car\n"
     ]
    }
   ],
   "source": [
    "Car1.fuel_type()"
   ]
  },
  {
   "cell_type": "code",
   "execution_count": 51,
   "id": "e44d6563",
   "metadata": {},
   "outputs": [],
   "source": [
    "class Animal:\n",
    "    def __init__(self,name,num_of_legs):\n",
    "        self.name=name\n",
    "        self.num_of_legs=num_of_legs\n",
    "    def run(self):\n",
    "        print(self.name+\" is running\")\n",
    "    def roar(self):\n",
    "        print(self.name+\" is roaring\")\n",
    "    def sleep(self):\n",
    "        print(self.name+\" is sleeping\")\n",
    "    def eat(self):\n",
    "        print(self.name+\" is eating\")"
   ]
  },
  {
   "cell_type": "code",
   "execution_count": 48,
   "id": "f23433bd",
   "metadata": {},
   "outputs": [],
   "source": [
    "Animal1=Animal(\"Dog\",4)"
   ]
  },
  {
   "cell_type": "code",
   "execution_count": 49,
   "id": "c60c136a",
   "metadata": {},
   "outputs": [
    {
     "name": "stdout",
     "output_type": "stream",
     "text": [
      "Dog is running\n"
     ]
    }
   ],
   "source": [
    "Animal1.run()"
   ]
  },
  {
   "cell_type": "code",
   "execution_count": null,
   "id": "b3622e78",
   "metadata": {},
   "outputs": [],
   "source": [
    "class Bank_Atm:\n",
    "    def __init__(self):\n",
    "        self.bal=0 \n",
    "        self.pin=\"\"\n",
    "        self.Menu()\n",
    "    def Menu(self):\n",
    "        options=input('''\n",
    "        1. Set Balance \n",
    "        2. Set Pin \n",
    "        3. Check Balance \n",
    "        4. Withdrwal \n",
    "        5. Press 5 for exit''')\n",
    "        if options==\"1\":\n",
    "            self.set_balance()\n",
    "        elif options==\"2\":\n",
    "            self.set_pin()\n",
    "        elif options==\"3\":\n",
    "            self.check_balance()\n",
    "        elif options==\"4\":\n",
    "            self.withdrawl()\n",
    "        else:\n",
    "            self.exit()\n",
    "    def set_balance(self):\n",
    "        amount=float(input(\"Enter Amount You Want To Deposit\"))\n",
    "        self.bal=amount\n",
    "        self.Menu()\n",
    "    def set_pin(self):\n",
    "        new_pin=input(\"Enter Pin Number :\")\n",
    "        self.pin=new_pin \n",
    "        print(\"Pin Changed Successfully\")\n",
    "        self.Menu()\n",
    "    def check_balance(self):\n",
    "        print(\"Your Balance is :\"+str(self.bal))\n",
    "        self.Menu()\n",
    "    def withdrawl(self):\n",
    "        pin=input(\"Enter Your Pin Number :\")\n",
    "        if self.pin!=pin:\n",
    "            print(\"Incorrect Pin Number. Try Again\")\n",
    "            for i in range(2):\n",
    "                pin=input(\"Enter Your Pin Number Again :\")\n",
    "                print(\"Incorrect Pin Number. Try Again\")\n",
    "                if pin==self.pin:\n",
    "                    print(\"Pin Matched\")\n",
    "                    break\n",
    "            else:\n",
    "                print(\"ATM CHORI KA HAI!\")\n",
    "                self.Menu()\n",
    "        if self.pin==pin:\n",
    "            amount=float(input(\"Enter Amount You Want to Withdraw\"))\n",
    "            if amount>self.bal:\n",
    "                print(\"Insufficient Balance\")\n",
    "                self.Menu()\n",
    "            else:\n",
    "                self.bal-=amount\n",
    "                print(\"Withdrawl Successful\")\n",
    "                self.Menu()\n",
    "    def exit(self):\n",
    "        print(\"Thank You For Using Our Services\")"
   ]
  },
  {
   "cell_type": "code",
   "execution_count": 41,
   "id": "c6cce4b2",
   "metadata": {},
   "outputs": [
    {
     "name": "stdout",
     "output_type": "stream",
     "text": [
      "Pin Changed Successfully\n",
      "Incorrect Pin Number. Try Again\n",
      "Incorrect Pin Number. Try Again\n",
      "Incorrect Pin Number. Try Again\n",
      "ATM CHORI KA HAI!\n",
      "Withdrawl Successful\n"
     ]
    }
   ],
   "source": [
    "b1=Bank_Atm()"
   ]
  },
  {
   "cell_type": "code",
   "execution_count": 42,
   "id": "760b530c",
   "metadata": {},
   "outputs": [
    {
     "data": {
      "text/plain": [
       "4140.0"
      ]
     },
     "execution_count": 42,
     "metadata": {},
     "output_type": "execute_result"
    }
   ],
   "source": [
    "b1.bal"
   ]
  },
  {
   "cell_type": "code",
   "execution_count": 43,
   "id": "06eae4c7",
   "metadata": {},
   "outputs": [
    {
     "data": {
      "text/plain": [
       "'456'"
      ]
     },
     "execution_count": 43,
     "metadata": {},
     "output_type": "execute_result"
    }
   ],
   "source": [
    "b1.pin"
   ]
  },
  {
   "cell_type": "code",
   "execution_count": null,
   "id": "1fafac99",
   "metadata": {},
   "outputs": [],
   "source": [
    "class Fraction:\n",
    "    def __init__(self,num,den):\n",
    "        self.num=num\n",
    "        self.den=den\n",
    "    def __str__(self):\n",
    "        return f\"{self.num}/{self.den}\"\n",
    "    def __add__(self,other):\n",
    "        self.num=self.num*other.den+other.num*self.den\n",
    "        self.den=self.den*other.den\n",
    "        return f\"{self.num}/{self.den}\"\n",
    "    def __sub__(self,other):\n",
    "        self.num=self.num*other.den-other.num*self.den\n",
    "        self.den=self.den*other.den\n",
    "        return f\"{self.num}/{self.den}\"\n",
    "    def __mul__(self,other):\n",
    "        self.num=self.num*other.num\n",
    "        self.den=self.den*other.den\n",
    "        return f\"{self.num}/{self.den}\"\n",
    "    def __truediv__(self,other):\n",
    "        self.num=self.num*other.den\n",
    "        self.den=self.den*other.num\n",
    "        return f\"{self.num}/{self.den}\""
   ]
  },
  {
   "cell_type": "code",
   "execution_count": 51,
   "id": "a0ea2c5c",
   "metadata": {},
   "outputs": [],
   "source": [
    "f1=Fraction(3,4)"
   ]
  },
  {
   "cell_type": "code",
   "execution_count": 52,
   "id": "9491bda4",
   "metadata": {},
   "outputs": [
    {
     "name": "stdout",
     "output_type": "stream",
     "text": [
      "3/4\n"
     ]
    }
   ],
   "source": [
    "print(f1)"
   ]
  },
  {
   "cell_type": "code",
   "execution_count": 54,
   "id": "6ed15c61",
   "metadata": {},
   "outputs": [],
   "source": [
    "f1.__add__(f1)"
   ]
  },
  {
   "cell_type": "code",
   "execution_count": 55,
   "id": "32bb2cb1",
   "metadata": {},
   "outputs": [
    {
     "name": "stdout",
     "output_type": "stream",
     "text": [
      "24/16\n"
     ]
    }
   ],
   "source": [
    "print(f1)"
   ]
  },
  {
   "cell_type": "code",
   "execution_count": null,
   "id": "5070fea2",
   "metadata": {},
   "outputs": [],
   "source": []
  }
 ],
 "metadata": {
  "kernelspec": {
   "display_name": "Python 3",
   "language": "python",
   "name": "python3"
  },
  "language_info": {
   "codemirror_mode": {
    "name": "ipython",
    "version": 3
   },
   "file_extension": ".py",
   "mimetype": "text/x-python",
   "name": "python",
   "nbconvert_exporter": "python",
   "pygments_lexer": "ipython3",
   "version": "3.13.5"
  }
 },
 "nbformat": 4,
 "nbformat_minor": 5
}
