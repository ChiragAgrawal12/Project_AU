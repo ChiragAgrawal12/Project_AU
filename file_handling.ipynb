{
 "cells": [
  {
   "cell_type": "markdown",
   "id": "7589546c",
   "metadata": {},
   "source": [
    "# <b><u> File Handling"
   ]
  },
  {
   "cell_type": "markdown",
   "id": "29b46390",
   "metadata": {},
   "source": [
    "## <u><i>Text Files</i></u>\n",
    "\n",
    "Opeartion in File Handling\n",
    "\n",
    "<b> Read = \"r\",</b>    Only reads a file.\n",
    "\n",
    "<b> Write = \"w\",</b>   Writes into a file and changes previous text if not used wisely.\n",
    "\n",
    "<b> Append = \"a\"</b>   Appends the file from the last edited point.\n",
    "\n",
    "<b> Read and Append = \"ra\"</b> \n",
    "\n",
    "* file=open(\"file_name\",\"mode\")  Mode=\"r\",\"w\",\"a\"  <b> ---> Open files in different modes as per requirements</b>\n",
    "* file.write(\"Content\")                            <b> ---> Write content in files </b>\n",
    "* file.close()                                     <b> ---> Close file after work </b>\n",
    "* file.writelines(list_name)                       <b> ---> Write lines while in the append mode for list values </b>\n",
    "* file.tell()                                      <b> ---> Pointer location </b>\n",
    "* file.seek(location)                              <b> ---> Backtrack to a location for overlapping data by write </b>\n",
    "* file.read()                                      <b> ---> Read data from file </b>\n",
    "* file.readlines()                                 <b> ---> read lines and store values in form of a list </b>"
   ]
  },
  {
   "cell_type": "code",
   "execution_count": 51,
   "id": "f6632e9d",
   "metadata": {},
   "outputs": [],
   "source": [
    "file=open(\"Chirag.txt\",\"w\")\n",
    "file.close()"
   ]
  },
  {
   "cell_type": "code",
   "execution_count": 52,
   "id": "71e1fe7f",
   "metadata": {},
   "outputs": [],
   "source": [
    "file=open(\"Chirag.txt\",\"w\")\n",
    "file.write(\"Chirag is a good boy \\n\")\n",
    "file.write(\"That is absolutely true\")\n",
    "file.close()"
   ]
  },
  {
   "cell_type": "code",
   "execution_count": 53,
   "id": "ceda107c",
   "metadata": {},
   "outputs": [],
   "source": [
    "string_list=[\"\\nThis that cat\",\"is was are\",\"class xyz\"]\n",
    "file=open(\"Chirag.txt\",\"a\")\n",
    "file.writelines(string_list)\n",
    "file.close()"
   ]
  },
  {
   "cell_type": "code",
   "execution_count": 54,
   "id": "35dd8fe0",
   "metadata": {},
   "outputs": [
    {
     "name": "stdout",
     "output_type": "stream",
     "text": [
      "80\n",
      "104\n"
     ]
    }
   ],
   "source": [
    "file=open(\"Chirag.txt\",\"a\")\n",
    "print(file.tell())\n",
    "file.write(\"\\nAaditya aacha ladka h.\")\n",
    "print(file.tell())\n",
    "file.close()"
   ]
  },
  {
   "cell_type": "code",
   "execution_count": 55,
   "id": "cb84c7fe",
   "metadata": {},
   "outputs": [],
   "source": [
    "file=open(\"Chirag.txt\",\"a\")\n",
    "file.seek(100)\n",
    "file.write(\"nhi\")\n",
    "file.close()"
   ]
  },
  {
   "cell_type": "code",
   "execution_count": 56,
   "id": "32c28d04",
   "metadata": {},
   "outputs": [],
   "source": [
    "f=open(\"Sample.txt\",\"w\")\n",
    "f.write(\"Hello\")\n",
    "f.seek(0)\n",
    "f.write(\"Xe\")\n",
    "f.close()"
   ]
  },
  {
   "cell_type": "code",
   "execution_count": 57,
   "id": "2ff1fa7e",
   "metadata": {},
   "outputs": [
    {
     "name": "stdout",
     "output_type": "stream",
     "text": [
      "Xello\n"
     ]
    }
   ],
   "source": [
    "g=open(\"Sample.txt\",\"r\")\n",
    "data=g.read()\n",
    "g.close()\n",
    "print(data)"
   ]
  },
  {
   "cell_type": "code",
   "execution_count": 58,
   "id": "dc0c9b91",
   "metadata": {},
   "outputs": [
    {
     "name": "stdout",
     "output_type": "stream",
     "text": [
      "['Chirag is a good boy \\n', 'That is absolutely true\\n', 'This that catis was areclass xyz\\n', 'Aaditya aacha ladka h.nhi']\n"
     ]
    }
   ],
   "source": [
    "g=open(\"Chirag.txt\",\"r\")\n",
    "data=g.readlines()\n",
    "g.close()\n",
    "print(data)"
   ]
  },
  {
   "cell_type": "code",
   "execution_count": 59,
   "id": "9ce68205",
   "metadata": {},
   "outputs": [
    {
     "name": "stdout",
     "output_type": "stream",
     "text": [
      "Chira/g is /a goo/d boy/ \n",
      "Tha/t is /absol/utely/ true/\n",
      "This/ that/ cati/s was/ arec/lass /xyz\n",
      "A/adity/a aac/ha la/dka h/.nhi/"
     ]
    }
   ],
   "source": [
    "file=open(\"Chirag.txt\",\"r\")\n",
    "while True:\n",
    "    data=file.read(5)\n",
    "    if data==\"\":\n",
    "        break\n",
    "    else:\n",
    "        print(data,end=\"/\")\n",
    "file.close()"
   ]
  },
  {
   "cell_type": "code",
   "execution_count": 60,
   "id": "cc976a85",
   "metadata": {},
   "outputs": [
    {
     "ename": "ValueError",
     "evalue": "I/O operation on closed file.",
     "output_type": "error",
     "traceback": [
      "\u001b[31m---------------------------------------------------------------------------\u001b[39m",
      "\u001b[31mValueError\u001b[39m                                Traceback (most recent call last)",
      "\u001b[36mCell\u001b[39m\u001b[36m \u001b[39m\u001b[32mIn[60]\u001b[39m\u001b[32m, line 4\u001b[39m\n\u001b[32m      2\u001b[39m     f.write(\u001b[33m\"\u001b[39m\u001b[33mxyz\u001b[39m\u001b[33m\"\u001b[39m)\n\u001b[32m      3\u001b[39m     f.write(\u001b[33m\"\u001b[39m\u001b[38;5;130;01m\\n\u001b[39;00m\u001b[33mabc\u001b[39m\u001b[33m\"\u001b[39m)\n\u001b[32m----> \u001b[39m\u001b[32m4\u001b[39m \u001b[43mf\u001b[49m\u001b[43m.\u001b[49m\u001b[43mwrite\u001b[49m\u001b[43m(\u001b[49m\u001b[33;43m\"\u001b[39;49m\u001b[38;5;130;43;01m\\n\u001b[39;49;00m\u001b[33;43mefg\u001b[39;49m\u001b[33;43m\"\u001b[39;49m\u001b[43m)\u001b[49m         \u001b[38;5;66;03m# As indentation will change then file will automatically close\u001b[39;00m\n",
      "\u001b[31mValueError\u001b[39m: I/O operation on closed file."
     ]
    }
   ],
   "source": [
    "with open(\"Sample.txt\",\"w\") as f:\n",
    "    f.write(\"xyz\")\n",
    "    f.write(\"\\nabc\")\n",
    "f.write(\"\\nefg\")         # As indentation will change then file will automatically close"
   ]
  },
  {
   "cell_type": "code",
   "execution_count": 62,
   "id": "60bd16b6",
   "metadata": {},
   "outputs": [
    {
     "name": "stdout",
     "output_type": "stream",
     "text": [
      "Chira/g is /a goo/d boy/ \n",
      "Tha/t is /absol/utely/ true/\n",
      "This/ that/ cati/s was/ arec/lass /xyz\n",
      "A/adity/a aac/ha la/dka h/.nhi/"
     ]
    }
   ],
   "source": [
    "with open(\"Chirag.txt\",\"r\") as f:\n",
    "    while True:\n",
    "        data=f.read(5)\n",
    "        if data==\"\":\n",
    "            break\n",
    "        else:\n",
    "            print(data,end=\"/\")"
   ]
  },
  {
   "cell_type": "code",
   "execution_count": null,
   "id": "720c7c4b",
   "metadata": {},
   "outputs": [],
   "source": [
    "with open(\"Sample.txt\",\"w\") as f:\n",
    "    f.write(5)                     # Write argument must be a string not int\n",
    "    f.write(\"5\")                   # Can't write in read mode"
   ]
  },
  {
   "cell_type": "code",
   "execution_count": null,
   "id": "730ac984",
   "metadata": {},
   "outputs": [
    {
     "name": "stdout",
     "output_type": "stream",
     "text": [
      "5\n"
     ]
    }
   ],
   "source": [
    "with open(\"Sample.txt\",\"r\") as f:\n",
    "    data=f.read()\n",
    "print(data)                        # Returning data is possible with change in indentation"
   ]
  },
  {
   "cell_type": "code",
   "execution_count": null,
   "id": "226274d0",
   "metadata": {},
   "outputs": [
    {
     "data": {
      "text/plain": [
       "12"
      ]
     },
     "execution_count": 68,
     "metadata": {},
     "output_type": "execute_result"
    }
   ],
   "source": [
    "int(data)+7                        # Can only add integers together but file has values as string"
   ]
  },
  {
   "cell_type": "code",
   "execution_count": null,
   "id": "8eadc217",
   "metadata": {},
   "outputs": [],
   "source": [
    "d1={\"A\":1,\"B\":2}\n",
    "with open(\"Sample.txt\",\"w\") as f:\n",
    "    f.write(str(d1))                   "
   ]
  },
  {
   "cell_type": "code",
   "execution_count": null,
   "id": "e1354d95",
   "metadata": {},
   "outputs": [
    {
     "name": "stdout",
     "output_type": "stream",
     "text": [
      "{'A': 1, 'B': 2}\n"
     ]
    }
   ],
   "source": [
    "with open(\"Sample.txt\",\"r\") as f:\n",
    "    data=f.read()\n",
    "print(data)                       # Looks like a dictionary but actually is a string"
   ]
  },
  {
   "cell_type": "code",
   "execution_count": 71,
   "id": "6362a9ad",
   "metadata": {},
   "outputs": [
    {
     "data": {
      "text/plain": [
       "str"
      ]
     },
     "execution_count": 71,
     "metadata": {},
     "output_type": "execute_result"
    }
   ],
   "source": [
    "type(data)"
   ]
  },
  {
   "cell_type": "code",
   "execution_count": null,
   "id": "4f6af062",
   "metadata": {},
   "outputs": [
    {
     "ename": "TypeError",
     "evalue": "string indices must be integers, not 'str'",
     "output_type": "error",
     "traceback": [
      "\u001b[31m---------------------------------------------------------------------------\u001b[39m",
      "\u001b[31mTypeError\u001b[39m                                 Traceback (most recent call last)",
      "\u001b[36mCell\u001b[39m\u001b[36m \u001b[39m\u001b[32mIn[72]\u001b[39m\u001b[32m, line 1\u001b[39m\n\u001b[32m----> \u001b[39m\u001b[32m1\u001b[39m \u001b[43mdata\u001b[49m\u001b[43m[\u001b[49m\u001b[33;43m\"\u001b[39;49m\u001b[33;43mA\u001b[39;49m\u001b[33;43m\"\u001b[39;49m\u001b[43m]\u001b[49m\n",
      "\u001b[31mTypeError\u001b[39m: string indices must be integers, not 'str'"
     ]
    }
   ],
   "source": [
    "data[\"A\"]     # String has integer indexing and not a string"
   ]
  },
  {
   "cell_type": "markdown",
   "id": "d3cd34cf",
   "metadata": {},
   "source": [
    "### Text file has issue of taking input only as string i.e all data may seem to be a other data type but locally is of the form \"string\""
   ]
  },
  {
   "cell_type": "code",
   "execution_count": 73,
   "id": "439207f3",
   "metadata": {},
   "outputs": [],
   "source": [
    "# JSON ( Java Script Object Notation ) ---> It can be accessed by any languague i.e Python,Java,JavaScript\n",
    "import json"
   ]
  },
  {
   "cell_type": "code",
   "execution_count": 74,
   "id": "0bf92670",
   "metadata": {},
   "outputs": [],
   "source": [
    "with open(\"demo.json\",\"w\") as file:\n",
    "    json.dump(d1,file)"
   ]
  },
  {
   "cell_type": "code",
   "execution_count": 75,
   "id": "93be3254",
   "metadata": {},
   "outputs": [],
   "source": [
    "with open(\"demo.json\",\"r\") as file:\n",
    "    data=json.load(file)"
   ]
  },
  {
   "cell_type": "code",
   "execution_count": 76,
   "id": "fda4efa3",
   "metadata": {},
   "outputs": [
    {
     "data": {
      "text/plain": [
       "dict"
      ]
     },
     "execution_count": 76,
     "metadata": {},
     "output_type": "execute_result"
    }
   ],
   "source": [
    "type(data)"
   ]
  },
  {
   "cell_type": "code",
   "execution_count": 77,
   "id": "37da55c0",
   "metadata": {},
   "outputs": [
    {
     "data": {
      "text/plain": [
       "1"
      ]
     },
     "execution_count": 77,
     "metadata": {},
     "output_type": "execute_result"
    }
   ],
   "source": [
    "data[\"A\"]"
   ]
  },
  {
   "cell_type": "code",
   "execution_count": 84,
   "id": "1179fa84",
   "metadata": {},
   "outputs": [],
   "source": [
    "l1=[2,3,5,8]\n",
    "with open(\"demo.json\",\"w\") as file:\n",
    "    json.dump(l1,file)"
   ]
  },
  {
   "cell_type": "code",
   "execution_count": 85,
   "id": "ebb43fa1",
   "metadata": {},
   "outputs": [],
   "source": [
    "with open(\"demo.json\",\"r\") as file:\n",
    "    data=json.load(file)"
   ]
  },
  {
   "cell_type": "code",
   "execution_count": 86,
   "id": "61fd2e4f",
   "metadata": {},
   "outputs": [
    {
     "data": {
      "text/plain": [
       "list"
      ]
     },
     "execution_count": 86,
     "metadata": {},
     "output_type": "execute_result"
    }
   ],
   "source": [
    "type(data)"
   ]
  },
  {
   "cell_type": "code",
   "execution_count": 87,
   "id": "82df52bc",
   "metadata": {},
   "outputs": [
    {
     "data": {
      "text/plain": [
       "2"
      ]
     },
     "execution_count": 87,
     "metadata": {},
     "output_type": "execute_result"
    }
   ],
   "source": [
    "data[0]"
   ]
  },
  {
   "cell_type": "code",
   "execution_count": 88,
   "id": "63f1c471",
   "metadata": {},
   "outputs": [],
   "source": [
    "class student:\n",
    "    def __init__(self,name,section):\n",
    "        self.name=name\n",
    "        self.section=section"
   ]
  },
  {
   "cell_type": "code",
   "execution_count": 89,
   "id": "3df69ea7",
   "metadata": {},
   "outputs": [],
   "source": [
    "s1=student(\"Chirag\",\"A\")"
   ]
  },
  {
   "cell_type": "code",
   "execution_count": 90,
   "id": "fdf4a295",
   "metadata": {},
   "outputs": [
    {
     "data": {
      "text/plain": [
       "'A'"
      ]
     },
     "execution_count": 90,
     "metadata": {},
     "output_type": "execute_result"
    }
   ],
   "source": [
    "s1.section"
   ]
  },
  {
   "cell_type": "code",
   "execution_count": null,
   "id": "042183d0",
   "metadata": {},
   "outputs": [
    {
     "ename": "TypeError",
     "evalue": "Object of type student is not JSON serializable",
     "output_type": "error",
     "traceback": [
      "\u001b[31m---------------------------------------------------------------------------\u001b[39m",
      "\u001b[31mTypeError\u001b[39m                                 Traceback (most recent call last)",
      "\u001b[36mCell\u001b[39m\u001b[36m \u001b[39m\u001b[32mIn[91]\u001b[39m\u001b[32m, line 2\u001b[39m\n\u001b[32m      1\u001b[39m \u001b[38;5;28;01mwith\u001b[39;00m \u001b[38;5;28mopen\u001b[39m(\u001b[33m\"\u001b[39m\u001b[33mdemo.json\u001b[39m\u001b[33m\"\u001b[39m,\u001b[33m\"\u001b[39m\u001b[33mw\u001b[39m\u001b[33m\"\u001b[39m) \u001b[38;5;28;01mas\u001b[39;00m file:\n\u001b[32m----> \u001b[39m\u001b[32m2\u001b[39m     \u001b[43mjson\u001b[49m\u001b[43m.\u001b[49m\u001b[43mdump\u001b[49m\u001b[43m(\u001b[49m\u001b[43ms1\u001b[49m\u001b[43m,\u001b[49m\u001b[43mfile\u001b[49m\u001b[43m)\u001b[49m\n",
      "\u001b[36mFile \u001b[39m\u001b[32mc:\\Users\\DELL\\AppData\\Local\\Programs\\Python\\Python313\\Lib\\json\\__init__.py:179\u001b[39m, in \u001b[36mdump\u001b[39m\u001b[34m(obj, fp, skipkeys, ensure_ascii, check_circular, allow_nan, cls, indent, separators, default, sort_keys, **kw)\u001b[39m\n\u001b[32m    173\u001b[39m     iterable = \u001b[38;5;28mcls\u001b[39m(skipkeys=skipkeys, ensure_ascii=ensure_ascii,\n\u001b[32m    174\u001b[39m         check_circular=check_circular, allow_nan=allow_nan, indent=indent,\n\u001b[32m    175\u001b[39m         separators=separators,\n\u001b[32m    176\u001b[39m         default=default, sort_keys=sort_keys, **kw).iterencode(obj)\n\u001b[32m    177\u001b[39m \u001b[38;5;66;03m# could accelerate with writelines in some versions of Python, at\u001b[39;00m\n\u001b[32m    178\u001b[39m \u001b[38;5;66;03m# a debuggability cost\u001b[39;00m\n\u001b[32m--> \u001b[39m\u001b[32m179\u001b[39m \u001b[43m\u001b[49m\u001b[38;5;28;43;01mfor\u001b[39;49;00m\u001b[43m \u001b[49m\u001b[43mchunk\u001b[49m\u001b[43m \u001b[49m\u001b[38;5;129;43;01min\u001b[39;49;00m\u001b[43m \u001b[49m\u001b[43miterable\u001b[49m\u001b[43m:\u001b[49m\n\u001b[32m    180\u001b[39m \u001b[43m    \u001b[49m\u001b[43mfp\u001b[49m\u001b[43m.\u001b[49m\u001b[43mwrite\u001b[49m\u001b[43m(\u001b[49m\u001b[43mchunk\u001b[49m\u001b[43m)\u001b[49m\n",
      "\u001b[36mFile \u001b[39m\u001b[32mc:\\Users\\DELL\\AppData\\Local\\Programs\\Python\\Python313\\Lib\\json\\encoder.py:440\u001b[39m, in \u001b[36m_make_iterencode.<locals>._iterencode\u001b[39m\u001b[34m(o, _current_indent_level)\u001b[39m\n\u001b[32m    438\u001b[39m         \u001b[38;5;28;01mraise\u001b[39;00m \u001b[38;5;167;01mValueError\u001b[39;00m(\u001b[33m\"\u001b[39m\u001b[33mCircular reference detected\u001b[39m\u001b[33m\"\u001b[39m)\n\u001b[32m    439\u001b[39m     markers[markerid] = o\n\u001b[32m--> \u001b[39m\u001b[32m440\u001b[39m o = \u001b[43m_default\u001b[49m\u001b[43m(\u001b[49m\u001b[43mo\u001b[49m\u001b[43m)\u001b[49m\n\u001b[32m    441\u001b[39m \u001b[38;5;28;01myield from\u001b[39;00m _iterencode(o, _current_indent_level)\n\u001b[32m    442\u001b[39m \u001b[38;5;28;01mif\u001b[39;00m markers \u001b[38;5;129;01mis\u001b[39;00m \u001b[38;5;129;01mnot\u001b[39;00m \u001b[38;5;28;01mNone\u001b[39;00m:\n",
      "\u001b[36mFile \u001b[39m\u001b[32mc:\\Users\\DELL\\AppData\\Local\\Programs\\Python\\Python313\\Lib\\json\\encoder.py:180\u001b[39m, in \u001b[36mJSONEncoder.default\u001b[39m\u001b[34m(self, o)\u001b[39m\n\u001b[32m    161\u001b[39m \u001b[38;5;28;01mdef\u001b[39;00m\u001b[38;5;250m \u001b[39m\u001b[34mdefault\u001b[39m(\u001b[38;5;28mself\u001b[39m, o):\n\u001b[32m    162\u001b[39m \u001b[38;5;250m    \u001b[39m\u001b[33;03m\"\"\"Implement this method in a subclass such that it returns\u001b[39;00m\n\u001b[32m    163\u001b[39m \u001b[33;03m    a serializable object for ``o``, or calls the base implementation\u001b[39;00m\n\u001b[32m    164\u001b[39m \u001b[33;03m    (to raise a ``TypeError``).\u001b[39;00m\n\u001b[32m   (...)\u001b[39m\u001b[32m    178\u001b[39m \n\u001b[32m    179\u001b[39m \u001b[33;03m    \"\"\"\u001b[39;00m\n\u001b[32m--> \u001b[39m\u001b[32m180\u001b[39m     \u001b[38;5;28;01mraise\u001b[39;00m \u001b[38;5;167;01mTypeError\u001b[39;00m(\u001b[33mf\u001b[39m\u001b[33m'\u001b[39m\u001b[33mObject of type \u001b[39m\u001b[38;5;132;01m{\u001b[39;00mo.\u001b[34m__class__\u001b[39m.\u001b[34m__name__\u001b[39m\u001b[38;5;132;01m}\u001b[39;00m\u001b[33m \u001b[39m\u001b[33m'\u001b[39m\n\u001b[32m    181\u001b[39m                     \u001b[33mf\u001b[39m\u001b[33m'\u001b[39m\u001b[33mis not JSON serializable\u001b[39m\u001b[33m'\u001b[39m)\n",
      "\u001b[31mTypeError\u001b[39m: Object of type student is not JSON serializable"
     ]
    }
   ],
   "source": [
    "with open(\"demo.json\",\"w\") as file:\n",
    "    json.dump(s1,file)              # Object of type student is not JSON serializable"
   ]
  },
  {
   "cell_type": "markdown",
   "id": "d1f9acd8",
   "metadata": {},
   "source": [
    "### JSON has Serialization and Deserialization issue"
   ]
  },
  {
   "cell_type": "code",
   "execution_count": 92,
   "id": "d9c94c20",
   "metadata": {},
   "outputs": [],
   "source": [
    "def display(obj):\n",
    "    return{\"name\":obj.name,\"section\":obj.section}"
   ]
  },
  {
   "cell_type": "code",
   "execution_count": 94,
   "id": "4343b053",
   "metadata": {},
   "outputs": [],
   "source": [
    "with open(\"demo.json\",\"w\") as file:\n",
    "    json.dump(s1,file,default=display)              # If used with a function then the serialization can be achieved"
   ]
  },
  {
   "cell_type": "code",
   "execution_count": 95,
   "id": "eeaefb0e",
   "metadata": {},
   "outputs": [
    {
     "name": "stdout",
     "output_type": "stream",
     "text": [
      "{'name': 'Chirag', 'section': 'A'}\n"
     ]
    }
   ],
   "source": [
    "with open(\"demo.json\",\"r\") as file:\n",
    "    data=json.load(file)\n",
    "print(data)"
   ]
  },
  {
   "cell_type": "code",
   "execution_count": 96,
   "id": "a41b8ec3",
   "metadata": {},
   "outputs": [],
   "source": [
    "def display(obj):\n",
    "    f\"{obj.name}/{obj.section}\""
   ]
  },
  {
   "cell_type": "code",
   "execution_count": 97,
   "id": "d4f738d1",
   "metadata": {},
   "outputs": [],
   "source": [
    "with open(\"demo.json\",\"w\") as file:\n",
    "    json.dump(s1,file,default=display)              # If used with a function then the serialization can be achieved"
   ]
  },
  {
   "cell_type": "code",
   "execution_count": 98,
   "id": "869c9630",
   "metadata": {},
   "outputs": [
    {
     "name": "stdout",
     "output_type": "stream",
     "text": [
      "None\n"
     ]
    }
   ],
   "source": [
    "with open(\"demo.json\",\"r\") as file:\n",
    "    data=json.load(file)\n",
    "print(data)"
   ]
  },
  {
   "cell_type": "code",
   "execution_count": null,
   "id": "274db547",
   "metadata": {},
   "outputs": [],
   "source": []
  }
 ],
 "metadata": {
  "kernelspec": {
   "display_name": "Python 3",
   "language": "python",
   "name": "python3"
  },
  "language_info": {
   "codemirror_mode": {
    "name": "ipython",
    "version": 3
   },
   "file_extension": ".py",
   "mimetype": "text/x-python",
   "name": "python",
   "nbconvert_exporter": "python",
   "pygments_lexer": "ipython3",
   "version": "3.13.5"
  }
 },
 "nbformat": 4,
 "nbformat_minor": 5
}
