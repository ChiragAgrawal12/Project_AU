{
 "cells": [
  {
   "cell_type": "code",
   "execution_count": 2,
   "id": "5760aaf2",
   "metadata": {},
   "outputs": [
    {
     "name": "stdout",
     "output_type": "stream",
     "text": [
      "Data-Science-Mentorship-Program-By-CampusX\n"
     ]
    }
   ],
   "source": [
    "# Q1 :- Print the given strings as per stated format.\n",
    "# Given strings: \"Data\" \"Science\" \"Mentorship\" \"Program\" \"By\" \"CampusX\"\n",
    "# Output: Data-Science-Mentorship-Program-started-By-CampusX\n",
    "\n",
    "print(\"Data\", \"Science\", \"Mentorship\", \"Program\", \"By\", \"CampusX\", sep=\"-\")"
   ]
  },
  {
   "cell_type": "code",
   "execution_count": 3,
   "id": "3a21b7c4",
   "metadata": {},
   "outputs": [
    {
     "name": "stdout",
     "output_type": "stream",
     "text": [
      "15 Celsius is equal to 59.0 Fahrenheit\n"
     ]
    }
   ],
   "source": [
    "# Q2:- Write a program that will convert celsius value to fahrenheit.\n",
    "celsius = int(input(\"Enter temperature in Celsius: \"))\n",
    "fahrenheit = (celsius * 9/5) + 32\n",
    "print(f\"{celsius} Celsius is equal to {fahrenheit} Fahrenheit\")"
   ]
  },
  {
   "cell_type": "code",
   "execution_count": 5,
   "id": "9e48455f",
   "metadata": {},
   "outputs": [
    {
     "name": "stdout",
     "output_type": "stream",
     "text": [
      "Before swapping: num1 = 5, num2 = 9\n",
      "After swapping: num1 = 9, num2 = 5\n"
     ]
    }
   ],
   "source": [
    "# Q3:- Take 2 numbers as input from the user. Write a program to swap the numbers without using any special python syntax.\n",
    "num1 = int(input(\"Enter first number: \"))\n",
    "num2 = int(input(\"Enter second number: \"))\n",
    "print(f\"Before swapping: num1 = {num1}, num2 = {num2}\")\n",
    "# Swapping the numbers without using any special syntax\n",
    "temp = num1\n",
    "num1 = num2\n",
    "num2 = temp\n",
    "print(f\"After swapping: num1 = {num1}, num2 = {num2}\")"
   ]
  },
  {
   "cell_type": "code",
   "execution_count": 9,
   "id": "1c5c614f",
   "metadata": {},
   "outputs": [
    {
     "name": "stdout",
     "output_type": "stream",
     "text": [
      "The Euclidean distance between (8.0, 9.0) and (15.0, 11.0) is 7.280109889280518\n"
     ]
    }
   ],
   "source": [
    "# Q4:- Write a program to find the euclidean distance between two coordinates. Take both the coordinates from the user as input.\n",
    "import math\n",
    "x1, y1 = map(float, input(\"Enter first coordinate (x1 y1): \").split())\n",
    "x2, y2 = map(float, input(\"Enter second coordinate (x2 y2): \").split())\n",
    "distance = math.sqrt((x2 - x1) ** 2 + (y2 - y1) ** 2)\n",
    "print(f\"The Euclidean distance between ({x1}, {y1}) and ({x2}, {y2}) is {distance}\")"
   ]
  },
  {
   "cell_type": "code",
   "execution_count": 11,
   "id": "d0f4da0f",
   "metadata": {},
   "outputs": [
    {
     "name": "stdout",
     "output_type": "stream",
     "text": [
      "The principle amount is: 500.0\n",
      "The rate of interest is: 12.0\n",
      "The time period is: 8.0\n",
      "The simple interest is: 480.0\n"
     ]
    }
   ],
   "source": [
    "# Q5:- Write a program to find the simple interest when the value of principle,rate of interest and time period is provided by the user.\n",
    "principle = float(input(\"Enter the principle amount: \"))\n",
    "rate_of_interest = float(input(\"Enter the rate of interest: \"))\n",
    "time_period = float(input(\"Enter the time period in years: \"))\n",
    "simple_interest = (principle * rate_of_interest * time_period) / 100\n",
    "print(\"The principle amount is:\", principle)\n",
    "print(\"The rate of interest is:\", rate_of_interest)\n",
    "print(\"The time period is:\", time_period)\n",
    "print(f\"The simple interest is: {simple_interest}\")"
   ]
  },
  {
   "cell_type": "code",
   "execution_count": null,
   "id": "a93f15bb",
   "metadata": {},
   "outputs": [],
   "source": []
  }
 ],
 "metadata": {
  "kernelspec": {
   "display_name": "Python 3",
   "language": "python",
   "name": "python3"
  },
  "language_info": {
   "codemirror_mode": {
    "name": "ipython",
    "version": 3
   },
   "file_extension": ".py",
   "mimetype": "text/x-python",
   "name": "python",
   "nbconvert_exporter": "python",
   "pygments_lexer": "ipython3",
   "version": "3.13.5"
  }
 },
 "nbformat": 4,
 "nbformat_minor": 5
}
