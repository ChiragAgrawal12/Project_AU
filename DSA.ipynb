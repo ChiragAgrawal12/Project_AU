{
 "cells": [
  {
   "cell_type": "markdown",
   "id": "91d4e14c",
   "metadata": {},
   "source": [
    "## DATA STRUCTURES AND ALGORITHMS:"
   ]
  },
  {
   "cell_type": "markdown",
   "id": "30461704",
   "metadata": {},
   "source": [
    "NOTATION\n",
    "\n",
    "1. Big-O Notation\n",
    "2. Little-O Notation\n",
    "3. Big-Omega Notation\n",
    "\n",
    "4. Little-Omega Notation\n",
    "5. Big-Theta Notation\n",
    "6. Little-Theta Notation"
   ]
  },
  {
   "cell_type": "markdown",
   "id": "c987901d",
   "metadata": {},
   "source": [
    "### DSA Topics to cover:\n",
    "\n",
    "**ARRAYS**\n",
    "\n",
    "1. Insertion\n",
    "2. Deletion\n",
    "3. Searching\n",
    "4. Sorting\n",
    "5. Traversing\n",
    "6. Reversing\n",
    "\n",
    "**LINKED LISTS**\n",
    "\n",
    "1. Insertion\n",
    "2. Deletion\n",
    "3. Searching\n",
    "4. Sorting\n",
    "5. Traversing\n",
    "6. Reversing\n",
    "\n",
    "**STACKS**\n",
    "\n",
    "1. Push\n",
    "2. Pop\n",
    "3. Peek\n",
    "4. Traversing\n",
    "\n",
    "**QUEUES**\n",
    "\n",
    "1. Enqueue\n",
    "2. Dequeue\n",
    "3. Peek\n",
    "4. Traversing\n",
    "\n",
    "**HEAPS**\n",
    "\n",
    "1. Insertion\n",
    "2. Deletion\n",
    "3. Searching\n",
    "4. Traversing\n",
    "\n",
    "**TREES**\n",
    "\n",
    "1. Insertion\n",
    "2. Deletion\n",
    "3. Searching\n",
    "4. Traversing\n",
    "\n",
    "**GRAPHS**\n",
    "\n",
    "1. Insertion\n",
    "2. Deletion\n",
    "3. Searching\n",
    "4. Traversing\n",
    "\n",
    "**HASH TABLES**\n",
    "\n",
    "1. Insertion    \n",
    "2. Deletion\n",
    "3. Searching\n",
    "4. Traversing\n",
    "\n",
    "**BINARY TREES**\n",
    "\n",
    "1. Insertion\n",
    "2. Deletion\n",
    "3. Searching\n",
    "4. Traversing\n",
    "\n",
    "**BINARY SEARCH TREES**\n",
    "\n",
    "1. Insertion\n",
    "2. Deletion\n",
    "3. Searching\n",
    "4. Traversing\n",
    "\n",
    "**AVL TREES**\n",
    "\n",
    "1. Insertion\n",
    "2. Deletion\n",
    "3. Searching\n",
    "4. Traversing\n",
    "\n",
    "**SEARCHING**\n",
    "\n",
    "1. Linear Search\n",
    "2. Binary Search\n",
    "\n",
    "**SORTING**\n",
    "\n",
    "1. Bubble Sort\n",
    "2. Selection Sort\n",
    "3. Insertion Sort\n",
    "4. Merge Sort\n",
    "5. Quick Sort\n",
    "6. Heap Sort\n",
    "7. Counting Sort\n",
    "8. Radix Sort\n",
    "9. Bucket Sort\n",
    "\n",
    "**GRAPH ALGORITHMS**\n",
    "\n",
    "1. Depth First Search\n",
    "2. Breadth First Search\n",
    "3. Dijkstra's Algorithm\n",
    "4. Bellman-Ford Algorithm\n",
    "5. Floyd-Warshall Algorithm\n",
    "6. Prim's Algorithm\n",
    "7. Kruskal's Algorithm\n",
    "\n",
    "**OTHER ALGORITHMS**\n",
    "\n",
    "1. Minimum Spanning Tree\n",
    "2. Maximum Spanning Tree\n",
    "3. Minimum Vertex Cover\n",
    "4. Maximum Vertex Cover\n",
    "\n",
    "**OTHER DATA STRUCTURES**\n",
    "\n",
    "1. Graphs\n",
    "2. Trees\n",
    "3. Heaps\n",
    "4. Priority Queues\n",
    "5. Stacks\n",
    "6. Queues\n",
    "7. Linked Lists\n",
    "8. Arrays\n",
    "9. Hash Tables\n",
    "10. Binary Trees\n",
    "11. Binary Search Trees\n",
    "12. AVL Trees\n",
    "13. Graph Algorithms\n",
    "14. Sorting Algorithms\n"
   ]
  },
  {
   "cell_type": "code",
   "execution_count": 4,
   "id": "b559b721",
   "metadata": {},
   "outputs": [],
   "source": [
    "# Code for Bubble Sort\n",
    "\n",
    "def bubble_sort(arr):\n",
    "    n = len(arr)\n",
    "    for i in range(n):\n",
    "        for j in range(0, n-i-1):\n",
    "            if arr[j] > arr[j+1]:\n",
    "                arr[j], arr[j+1] = arr[j+1], arr[j]\n",
    "    return arr"
   ]
  },
  {
   "cell_type": "code",
   "execution_count": 5,
   "id": "152e65c1",
   "metadata": {},
   "outputs": [
    {
     "name": "stdout",
     "output_type": "stream",
     "text": [
      "[5, 9, 11, 13, 14, 45, 84, 86]\n"
     ]
    }
   ],
   "source": [
    "arr=input(\"Enter the array: \").split()\n",
    "arr=[int(x) for x in arr]                # This is used for converting string to integer\n",
    "print(bubble_sort(arr))"
   ]
  },
  {
   "cell_type": "code",
   "execution_count": 3,
   "id": "4c6a362b",
   "metadata": {},
   "outputs": [
    {
     "name": "stdout",
     "output_type": "stream",
     "text": [
      "[11, 12, 22, 25, 34, 64, 90]\n"
     ]
    }
   ],
   "source": [
    "arr = [64, 34, 25, 12, 22, 11, 90]\n",
    "print(bubble_sort(arr))"
   ]
  },
  {
   "cell_type": "code",
   "execution_count": null,
   "id": "51cbeeb2",
   "metadata": {},
   "outputs": [
    {
     "name": "stdout",
     "output_type": "stream",
     "text": [
      "456\n"
     ]
    }
   ],
   "source": [
    "# Tell time complexity of the code\n",
    "n=int(input(\"Enter the number of elements: \"))\n",
    "result=\"\"\n",
    "while n>0:\n",
    "    rem=n%10\n",
    "    result=str(rem)+result\n",
    "    n=n//10\n",
    "print(result)"
   ]
  },
  {
   "cell_type": "code",
   "execution_count": null,
   "id": "804465ad",
   "metadata": {},
   "outputs": [],
   "source": []
  }
 ],
 "metadata": {
  "kernelspec": {
   "display_name": "Python 3",
   "language": "python",
   "name": "python3"
  },
  "language_info": {
   "codemirror_mode": {
    "name": "ipython",
    "version": 3
   },
   "file_extension": ".py",
   "mimetype": "text/x-python",
   "name": "python",
   "nbconvert_exporter": "python",
   "pygments_lexer": "ipython3",
   "version": "3.13.5"
  }
 },
 "nbformat": 4,
 "nbformat_minor": 5
}
